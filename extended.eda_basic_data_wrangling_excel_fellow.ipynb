{
  "metadata": {
    "c1_recart": "7.55.0-57c20131aabc1dc2a8c675852d80a7da",
    "language_info": {
      "codemirror_mode": {
        "name": "python",
        "version": 3
      },
      "file_extension": ".py",
      "mimetype": "text/x-python",
      "name": "python",
      "nbconvert_exporter": "python",
      "pygments_lexer": "ipython3",
      "version": "3.8"
    },
    "kernelspec": {
      "name": "python",
      "display_name": "Python (Pyodide)",
      "language": "python"
    }
  },
  "nbformat_minor": 5,
  "nbformat": 4,
  "cells": [
    {
      "cell_type": "markdown",
      "source": "# Understanding the alternative fuel vehicles market in the US",
      "metadata": {
        "nbgrader": {
          "grade": false,
          "grade_id": "cell-409ebbc77621b3aa",
          "locked": true,
          "schema_version": 3,
          "solution": false,
          "task": false
        }
      },
      "id": "2e9c6786-aab5-451f-9e5c-755796325092"
    },
    {
      "cell_type": "markdown",
      "source": "## Introduction\n\n**Business Context.** You are an analyst at the ICCT ([International Council on Clean Transportation](https://theicct.org/mission-history)), an NGO that provides research to environmental authorities around the world. You are part of a team that is preparing a report on the alternative fuel vehicles (AFV) market in the United States, with a particular focus on the state of Washington.\n\n**Business Problem.** Your job is to **provide a characterization of the AFV market in the US and in Washington, including data about energy efficiency of the vehicles over time, geographical distribution, etc.**\n\n**Analytical Context.** You will be working with the [`vehicles.xlsm`](/extended.eda_basic_data_wrangling_excel_fellow/files/data/vehicles.xlsm) Excel file that contains four tabs of raw data. The first one is the `sales` tab, which contains aggregated sales figures for the US; the second one is the `models` tab, which contains data on the EV type. The third tab is the `range_data` tab, which has data about ranges of electrical vehicles. These data files come from the US Department of Energy. The last one is `ev_data tab`, which is a census of all the electric vehicles in circulation in Washington state. This census data comes from the Washington State Department of Licensing.\n\nInstructions: For this extended case, you will only submit one Excel file with your answers written in the `ANSWER` tab. Each question will have its specific designated field that you will be placing your answers into. Continue for further instructions.",
      "metadata": {
        "nbgrader": {
          "grade": false,
          "grade_id": "cell-f277e04ba1e7a88a",
          "locked": true,
          "schema_version": 3,
          "solution": false,
          "task": false
        },
        "tags": [
          "4_min"
        ]
      },
      "id": "58c14195-f3df-4f3a-a2ff-73d0a85a6c31"
    },
    {
      "cell_type": "markdown",
      "source": "## Alternative fuel vehicles in the US\n\n[Alternative fuel vehicles (AFV)](https://en.wikipedia.org/wiki/Alternative_fuel_vehicle) are vehicles that run either partially or totally on an energy source that is not gasoline or diesel, such as ethanol, solar power, electricity, or hydrogen. Some AFVs are highly efficient and, perhaps more importantly, have reduced greenhouse gas emissions relative to traditional vehicles, which makes them an important part of environmental recovery and protection plans around the globe.\n\nThis chart shows the distribution of light-duty AFVs in the US as of Dec. 31, 2018:\n\n![](data/images/light-duty-afv-registrat.png)\n\n**Legend:** *FFV:* Flexible fuel vehicle (cars that run on biofuels or mixtures of gas and biofuels - most of the FFVs in the US operate primarily on gasoline, see [here](https://afdc.energy.gov/vehicles/flexible_fuel.html) for more information). *HEV:* Hybrid electric vehicle. *CNG:* Compressed natural gas. *EV:* Electric vehicle. *PHEV:* Plug-in hybrid electric vehicle. PHEVs and EVs are often counted as a single category, Plug-in electric vehicles (*PEV*s). **Source:** Alternative Fuels Data Center, US Department of Energy.\n\nNote: Chart totals add to 99.99 due to rounding. This is not uncommon, but a good reason to avoid pie charts.",
      "metadata": {
        "nbgrader": {
          "grade": false,
          "grade_id": "cell-9af59b7aa1f04148",
          "locked": true,
          "schema_version": 3,
          "solution": false,
          "task": false
        },
        "tags": [
          "4_min"
        ]
      },
      "id": "7655ab35-d9e3-4dc3-805b-078561abbcf3"
    },
    {
      "cell_type": "markdown",
      "source": "### Exercise 1\n\nWrite a paragraph with an interpretation of this chart in your own words.\n\n**Instructions:** Write your analysis in cell `X6` in the `ANSWER` tab.\n\nUse at least two evidence-based examples to support arguments. Your response should be clear and concise without grammatical and spelling errors.\n\nNote: For response-based questions, answers should be clear and your reasoning should be supported with evidence. For instance, you can compare and contrast various types of EVs based on proportions of the market, and state reasons why these types of vehicles comprised the market in 2018.",
      "metadata": {
        "nbgrader": {
          "grade": false,
          "grade_id": "cell-e3edc39de4a2ee42",
          "locked": true,
          "schema_version": 3,
          "solution": false,
          "task": false
        },
        "tags": [
          "10_min"
        ]
      },
      "id": "e076bc8a-d053-454b-b4f1-b6822fadcfd3"
    },
    {
      "cell_type": "markdown",
      "source": "**Answer.**",
      "metadata": {
        "nbgrader": {
          "grade": false,
          "grade_id": "cell-86efc8bb1160976f",
          "locked": true,
          "schema_version": 3,
          "solution": false,
          "task": false
        },
        "tags": [
          "ans_st"
        ]
      },
      "id": "c6bd50fe-8be6-4820-abbc-32ce91ea8bbb"
    },
    {
      "cell_type": "markdown",
      "source": "### Exercise 2\n\nRead this excerpt from [this page](https://afdc.energy.gov/vehicles/flexible_fuel.html) about flexible fuel vehicles:\n\n> Flexible fuel vehicles (FFVs) have an internal combustion engine and are capable of operating on gasoline and any blend of gasoline and ethanol up to 83%. E85 (or flex fuel) is a gasoline-ethanol blend containing 51% to 83% ethanol, depending on geography and season. According to IHS Markit, as of 2017, there were more than 21 million FFVs in the United States. Because FFVs are factory made and are capable of operating on gasoline and gasoline-ethanol blends, many vehicle owners don't realize their car is an FFV and that they have a choice of fuels to use.\n\nGiven the additional information you gained from the excerpt, does the meaning you took from the graph change? Explain your answer.\n\n**Instructions:** Write your analysis in cell `X36` in the `ANSWER` tab.",
      "metadata": {
        "nbgrader": {
          "grade": false,
          "grade_id": "cell-d15ef89b1cde33ed",
          "locked": true,
          "schema_version": 3,
          "solution": false,
          "task": false
        },
        "tags": [
          "10_min"
        ]
      },
      "id": "9d5d9c75-1731-48c0-ad92-a18c9c4ea72e"
    },
    {
      "cell_type": "markdown",
      "source": "**Answer.**",
      "metadata": {
        "nbgrader": {
          "grade": false,
          "grade_id": "cell-5c50f28baa86f45a",
          "locked": true,
          "schema_version": 3,
          "solution": false,
          "task": false
        },
        "tags": [
          "ans_st"
        ]
      },
      "id": "c48c1d3d-c8a9-475c-86a5-06b328add1a0"
    },
    {
      "cell_type": "markdown",
      "source": "### Exercise 3\n\nYour team would like to know how the sales of fully electric vehicles compare to those of plug-in hybrid electric vehicles over time. The models worksheet has a list of all the models in the dataset with their type (either EV or PHEV) and the sales worksheet shows how many units were sold of each model in each year between 2011 and 2019.\n\nInstruction:\n1. Make a pivot table that has these rows and columns described above (insert it in tab `Pivot Table 1` at cell `A1`).\n2. Complete \"Column D\" in the `sales` tab.\n\n![sales pivot table](data/images/us_sales_pivot.png)\n\n**Hint:** You will need to use the `INDEX()` and `MATCH()` functions.",
      "metadata": {
        "nbgrader": {
          "grade": false,
          "grade_id": "cell-7a380ab25ea7e22c",
          "locked": true,
          "schema_version": 3,
          "solution": false,
          "task": false
        },
        "tags": [
          "30_min"
        ]
      },
      "id": "8cb8393a-7097-442c-959e-393e52fc652e"
    },
    {
      "cell_type": "markdown",
      "source": "**Answer.**",
      "metadata": {
        "nbgrader": {
          "grade": false,
          "grade_id": "cell-1fa83bb61c8bc5de",
          "locked": true,
          "schema_version": 3,
          "solution": false,
          "task": false
        },
        "tags": [
          "ans_st"
        ]
      },
      "id": "91b04be4-1e93-450b-874b-e9d9ffaea2d9"
    },
    {
      "cell_type": "markdown",
      "source": "### Exercise 4\n\nThe figures you have just calculated can be represented using the below plots. Provide a paragraph in which you explain in your own words what can be inferred from them:\n\n![US sales bar plot total](data/images/us_sales_bar_total.png)\n![US sales bar plot by type](data/images/us_sales_bar_type.png)\n\n**Instructions:** Write your analysis in cell `X118` in the `ANSWER` tab.\n\nRespond to the question with at least two logical arguments. Mention derivations of two of the key points. Use at least two evidence-based examples to support arguments. Paragraph should be logical, easy to understand, and generally free of spelling errors.",
      "metadata": {
        "nbgrader": {
          "grade": false,
          "grade_id": "cell-1916f20701d722bf",
          "locked": true,
          "schema_version": 3,
          "solution": false,
          "task": false
        },
        "tags": [
          "10_min"
        ]
      },
      "id": "53a0968e-a83d-48e7-b69f-c11480b3b88f"
    },
    {
      "cell_type": "markdown",
      "source": "**Answer.**",
      "metadata": {
        "nbgrader": {
          "grade": false,
          "grade_id": "cell-f5e866aa62f54b5b",
          "locked": true,
          "schema_version": 3,
          "solution": false,
          "task": false
        },
        "tags": [
          "ans_st"
        ]
      },
      "id": "cbc729a5-863e-4107-8c84-ef5bb4bc8fd9"
    },
    {
      "cell_type": "markdown",
      "source": "### Exercise 5\n\nLet's now investigate the ranges of electric vehicles in the US. The range of an electric vehicle is the theoretical number of miles it can travel without needing to be recharged.\n\nThe data can be found in the `range_data` tab. It contains range data for a number of EV models in the form of text strings. For example, `2013 Toyota - Scion Iq 038` means that the range of a Toyota Scion Iq model 2013 is 38 miles. Your job is to use Excel functions to create a table out of this data with the four columns `YEAR`, `MAKE`, `MODEL`, and `RANGE`, to end up with something like this:\n\n![Us ranges data wrangling](data/images/wrangled.png)\n\n**Instructions:**\n1. Split Column A using Text-to-Column Feature\n2. Complete Column C\n3. Complete Column D\n4. Complete Column E\n5. Complete Column F\n\n**Hint:** Use the `FIND()`, `LEN()`, `RIGHT()`, `LEFT()`, `TRIM()`, and `VALUE()` functions to wrangle the data. It is also useful to start with `Text to Columns`, available under the `Data` tab, and split by `-`. Notice that all years have four characters and all ranges have three. You must recreate all four columns for credit, but as long as you can extract the year and mileage you will be able to complete exercises 6 and 7.",
      "metadata": {
        "nbgrader": {
          "grade": false,
          "grade_id": "cell-2b468f06f7de7683",
          "locked": true,
          "schema_version": 3,
          "solution": false,
          "task": false
        },
        "tags": [
          "35_min"
        ]
      },
      "id": "bf0ade48-64ca-4114-b9ff-a2c4f62feb9f"
    },
    {
      "cell_type": "markdown",
      "source": "**Answer.**",
      "metadata": {
        "nbgrader": {
          "grade": false,
          "grade_id": "cell-ba711a2d37254324",
          "locked": true,
          "schema_version": 3,
          "solution": false,
          "task": false
        },
        "tags": [
          "ans_st"
        ]
      },
      "id": "7901ad32-8200-433b-b74e-68a8b4de0fd9"
    },
    {
      "cell_type": "markdown",
      "source": "### Exercise 6\n\nThis is a histogram made with the data from Exercise 5:\n\n![Histogram of range](data/images/histogram.png)\n\n#### 6.1 \n\nRecreate this histogram on the same sheet where you have range_data.  \n\n**Instructions:** Be sure to consider each feature of the histogram:\n1. Number of Bins (10)\n2. Axis Labels\n3. Title\nOnce the chart is complete. Copy the chart and paste it in the `ANSWER` tab, cell `X198`.\n\n#### 6.2\n\nThere is a gap in the interval from ~147 to ~228 miles. What does that mean? What could be causing it?  \n\n**Instructions:** Write your analysis in cell `X228` in the `ANSWER` tab.\n\nRespond to the question with at least two logical arguments. Mention the derivations of two of the key points. Use at least two evidence-based examples to support arguments. Paragraph should be clear, easy to understand, and generally free of spelling errors.",
      "metadata": {
        "nbgrader": {
          "grade": false,
          "grade_id": "cell-b3790b7ab7876091",
          "locked": true,
          "schema_version": 3,
          "solution": false,
          "task": false
        },
        "tags": [
          "10_min"
        ]
      },
      "id": "a699220b-e48a-48ce-81d1-2909659b8c20"
    },
    {
      "cell_type": "markdown",
      "source": "**Answer.**",
      "metadata": {
        "nbgrader": {
          "grade": false,
          "grade_id": "cell-cd9b9a4cecddc94d",
          "locked": true,
          "schema_version": 3,
          "solution": false,
          "task": false
        },
        "tags": [
          "ans_st"
        ]
      },
      "id": "ed460500-35c8-415b-9a22-d1989be001d4"
    },
    {
      "cell_type": "markdown",
      "source": "### Exercise 7\n\n#### 7.1 \n\nCreate a pivot table showing the average range for each year.\n\n**Instructions:** Make a pivot table that has these rows and columns (insert it in `Pivot Table 2` at cell `A1`).\n\n#### 7.2 \n\nUse your pivot table to answer this question: How has the average range changed over time? (Do newer cars have longer ranges?)\n\n**Instructions:** Write your analysis in cell `X295` in `ANSWER` tab.\n\nRespond to the question with one or two logical arguments. The response should be clear, easy to understand, and generally free of spelling errors.",
      "metadata": {
        "nbgrader": {
          "grade": false,
          "grade_id": "cell-bda18fe1c694aad0",
          "locked": true,
          "schema_version": 3,
          "solution": false,
          "task": false
        },
        "tags": [
          "10_min"
        ]
      },
      "id": "47f1c665-cf93-4c01-bc1e-0a6ddb26df8c"
    },
    {
      "cell_type": "markdown",
      "source": "**Answer.**",
      "metadata": {
        "nbgrader": {
          "grade": false,
          "grade_id": "cell-c0f2f3ecb14f5689",
          "locked": true,
          "schema_version": 3,
          "solution": false,
          "task": false
        },
        "tags": [
          "ans_st"
        ]
      },
      "id": "457d4f9e-a92e-4482-afcb-c00de951a404"
    },
    {
      "cell_type": "markdown",
      "source": "## Electric vehicle population in Washington state\n\nLet's now move on to studying the population of electric vehicles in Washington State using pivot tables. The relevant tab is `ev_data` tab.\n\n**Note:** There are vehicles with states other than Washington in the \"State\" field. There is no error in the dataset. It contains all EVs that were *registered* in Washington in the given period. The \"State\" field is the state where the owner *resides*. There are vehicles that were registered in Washington but whose owners live somewhere else. See the data dictionary [here](https://web.archive.org/web/20220610203945/https://data.wa.gov/Transportation/Electric-Vehicle-Population-Data/f6w7-q2d2).",
      "metadata": {
        "nbgrader": {
          "grade": false,
          "grade_id": "cell-fe793210283eb969",
          "locked": true,
          "schema_version": 3,
          "solution": false,
          "task": false
        }
      },
      "id": "32eb4d6b-528d-41a9-9163-92d593d91ed2"
    },
    {
      "cell_type": "markdown",
      "source": "### Exercise 8\n\nComplete the following two questions by creating a pivot table for each question. Both pivot tables are placed in their own separate sheet titled `Pivot Table 3` and `Pivot Table 4`. Use the output to answer each question in a complete sentence.\n\n#### 8.1\n\nWhat are the 5 most popular makes in Washington?\n\n**Instructions:**\n1. Make a pivot table in the `Pivot Table 3` sheet at cell `A1`.\n2. Provide a quick summary of the top 5 makes in Washington in cell `X325` of the `ANSWER` tab.",
      "metadata": {
        "nbgrader": {
          "grade": false,
          "grade_id": "cell-9921db72584c4e2a",
          "locked": true,
          "schema_version": 3,
          "solution": false,
          "task": false
        },
        "tags": [
          "7_min"
        ]
      },
      "id": "00b05faf-c55b-4191-ba25-324bd98ea77e"
    },
    {
      "cell_type": "markdown",
      "source": "**Answer.**",
      "metadata": {
        "nbgrader": {
          "grade": false,
          "grade_id": "cell-a144410641a06332",
          "locked": true,
          "schema_version": 3,
          "solution": false,
          "task": false
        },
        "tags": [
          "ans_st"
        ]
      },
      "id": "b9ef3b14-68a2-4b47-95fc-078fb9fb8f97"
    },
    {
      "cell_type": "markdown",
      "source": "#### 8.2\n\nWhat are the most common model years in Washington? (The answer to this question would be the 5 years that had the most models.) Does this result and that of the previous exercise suggest that cars in Washington tend to have long ranges?\n\n**Instructions:**\n1. Make a pivot table in the `Pivot Table 4` sheet at cell `A1`.\n2. Provide a quick summary of the top 5 makes in Washington in cell `X362` of the `ANSWER` tab.",
      "metadata": {
        "nbgrader": {
          "grade": false,
          "grade_id": "cell-8ca73e86a8c0989d",
          "locked": true,
          "schema_version": 3,
          "solution": false,
          "task": false
        },
        "tags": [
          "7_min"
        ]
      },
      "id": "840f9c78-e3b0-409d-9dcb-1163e362ffad"
    },
    {
      "cell_type": "markdown",
      "source": "**Answer.**",
      "metadata": {
        "nbgrader": {
          "grade": false,
          "grade_id": "cell-ec873fa6bab9839e",
          "locked": true,
          "schema_version": 3,
          "solution": false,
          "task": false
        },
        "tags": [
          "ans_st"
        ]
      },
      "id": "78612110-e5fb-498c-94ad-b55532f02526"
    },
    {
      "cell_type": "markdown",
      "source": "### Exercise 9\n\nThis is a histogram of vehicles in Washington state according to their ranges. \n\n![Histogram of ranges (Washington)](data/images/histogram_washington.png)\n\n#### 9.1\n\nRecreate this histogram and place it to the right of the data on the `ev_data` sheet.\n\n**Instructions:** Be sure to consider each feature of the histogram:\n1. Number of Bins (10)\n2. Axis Labels\n3. Title\nOnce the chart is complete, copy the chart and paste it in the `ANSWER` tab, cell `X399`.\n\n#### 9.2\n\nIs this histogram consistent with the hypothesis that cars there tend to have long ranges?\n\n**Note:** While the histogram you analyzed in Exercise 6 showed the distribution of ranges from a list of *models*, this histogram shows you the distribution from a list of *individual vehicles*, and therefore the two histograms are not comparable. The dataset from Exercise 6 had 65 models, while the Washington state dataset has 76,767 vehicles.\n\n**Instructions:** Write your analysis in cell `X429` in the `ANSWER` tab.",
      "metadata": {
        "nbgrader": {
          "grade": false,
          "grade_id": "cell-9d28d64bf2018b65",
          "locked": true,
          "schema_version": 3,
          "solution": false,
          "task": false
        },
        "tags": [
          "6_min"
        ]
      },
      "id": "9c6d2ed8-8fa8-49ff-bd1c-12e79cec4ecd"
    },
    {
      "cell_type": "markdown",
      "source": "**Answer.**",
      "metadata": {
        "nbgrader": {
          "grade": false,
          "grade_id": "cell-975621b535ba0e2b",
          "locked": true,
          "schema_version": 3,
          "solution": false,
          "task": false
        },
        "tags": [
          "ans_st"
        ]
      },
      "id": "e5d5f67b-58c3-4089-8ea9-bdde13ffe57a"
    },
    {
      "cell_type": "markdown",
      "source": "### Submission Instructions\n\nBe sure to turn in a single Excel file. Your excel files should only have the following tabs: `ev_data`, `range_data`, `models`, `sales`,` Pivot Table 1`, `Pivot Table 2`, `Pivot Table 3`, `Pivot Table 4`, `ANSWER`, `TA Feedback` and `TA ONLY`.",
      "metadata": {
        "nbgrader": {
          "grade": false,
          "grade_id": "cell-f59ac8bce48e9095",
          "locked": true,
          "schema_version": 3,
          "solution": false,
          "task": false
        }
      },
      "id": "09cbd07d-827c-47d0-afbf-a0efe2b937e2"
    },
    {
      "cell_type": "markdown",
      "source": "## Attribution\n\n\"Light-Duty AFV Registrations\", Aug 2020, Alternative Fuels Data Center, US Department of Energy, [Public Domain](https://www.energy.gov/about-us/web-policies), https://afdc.energy.gov/data/10861\n\n\"Electric Vehicle Population Data\", Aug 2021, Washington State Department of Licensing (DOL), [DOL Conditions of Use](https://www.dol.wa.gov/conditions.html) https://catalog.data.gov/dataset/electric-vehicle-population-data\n\n\"U.S. Plug-in Electric Vehicle Sales by Model\", Jan 2020, Alternative Fuels Data Center, US Department of Energy, [Public Domain](https://www.energy.gov/about-us/web-policies), https://afdc.energy.gov/data/10567\n\n\"Average Range and Efficiency of U.S. Electric Vehicles\", Jan 2020, Alternative Fuels Data Center, US Department of Energy, [Public Domain](https://www.energy.gov/about-us/web-policies), https://afdc.energy.gov/data/10963",
      "metadata": {
        "nbgrader": {
          "grade": false,
          "grade_id": "cell-409a0ddef4766a0b",
          "locked": true,
          "schema_version": 3,
          "solution": false,
          "task": false
        }
      },
      "id": "6a5e0027-d4ea-4dbc-96ce-17f3f8e3e8bf"
    }
  ]
}